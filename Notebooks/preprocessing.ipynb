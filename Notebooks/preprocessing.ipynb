{
 "cells": [
  {
   "cell_type": "code",
   "execution_count": 2,
   "metadata": {},
   "outputs": [],
   "source": [
    "BASE_PATH = \"C:\\Adarsh work\\Dissonance\\\\\""
   ]
  },
  {
   "cell_type": "code",
   "execution_count": 3,
   "metadata": {},
   "outputs": [],
   "source": [
    "import pandas as pd\n",
    "import numpy as np\n",
    "import matplotlib.pyplot as plt\n",
    "from sklearn.preprocessing import MinMaxScaler, LabelEncoder"
   ]
  },
  {
   "cell_type": "code",
   "execution_count": 4,
   "metadata": {},
   "outputs": [],
   "source": [
    "DEBUG = True\n",
    "def debug(*args):\n",
    "    if DEBUG:\n",
    "        print(*args)"
   ]
  },
  {
   "cell_type": "markdown",
   "metadata": {},
   "source": [
    "# Load pronto_data"
   ]
  },
  {
   "cell_type": "code",
   "execution_count": 5,
   "metadata": {},
   "outputs": [
    {
     "data": {
      "text/html": [
       "<div>\n",
       "<style scoped>\n",
       "    .dataframe tbody tr th:only-of-type {\n",
       "        vertical-align: middle;\n",
       "    }\n",
       "\n",
       "    .dataframe tbody tr th {\n",
       "        vertical-align: top;\n",
       "    }\n",
       "\n",
       "    .dataframe thead th {\n",
       "        text-align: right;\n",
       "    }\n",
       "</style>\n",
       "<table border=\"1\" class=\"dataframe\">\n",
       "  <thead>\n",
       "    <tr style=\"text-align: right;\">\n",
       "      <th></th>\n",
       "      <th>AirIn</th>\n",
       "      <th>Air.T</th>\n",
       "      <th>Air.P</th>\n",
       "      <th>WaterIn</th>\n",
       "      <th>Water.T</th>\n",
       "      <th>Water.Density</th>\n",
       "      <th>Mixture.zone.P</th>\n",
       "      <th>riser.outlet.P</th>\n",
       "      <th>P.topsep</th>\n",
       "      <th>FR.topsep.gas</th>\n",
       "      <th>FR.topsep.liquid</th>\n",
       "      <th>P_3phase</th>\n",
       "      <th>Air.Valve</th>\n",
       "      <th>Water.level</th>\n",
       "      <th>Water.coalescer</th>\n",
       "      <th>Water.level.valve</th>\n",
       "      <th>water.tank.level</th>\n",
       "      <th>Fault</th>\n",
       "    </tr>\n",
       "  </thead>\n",
       "  <tbody>\n",
       "    <tr>\n",
       "      <th>0</th>\n",
       "      <td>121.053596</td>\n",
       "      <td>15.68166</td>\n",
       "      <td>1.301107</td>\n",
       "      <td>0.096309</td>\n",
       "      <td>23.748079</td>\n",
       "      <td>997.596497</td>\n",
       "      <td>1.240097</td>\n",
       "      <td>1.025907</td>\n",
       "      <td>1.027175</td>\n",
       "      <td>0.000491</td>\n",
       "      <td>0.064845</td>\n",
       "      <td>1.005916</td>\n",
       "      <td>25.092310</td>\n",
       "      <td>62.243111</td>\n",
       "      <td>98.642677</td>\n",
       "      <td>2.257356</td>\n",
       "      <td>1.443121</td>\n",
       "      <td>3.0</td>\n",
       "    </tr>\n",
       "    <tr>\n",
       "      <th>1</th>\n",
       "      <td>120.982101</td>\n",
       "      <td>15.68156</td>\n",
       "      <td>1.298735</td>\n",
       "      <td>0.096320</td>\n",
       "      <td>23.745350</td>\n",
       "      <td>997.596619</td>\n",
       "      <td>1.236252</td>\n",
       "      <td>1.027934</td>\n",
       "      <td>1.027277</td>\n",
       "      <td>0.000483</td>\n",
       "      <td>0.095639</td>\n",
       "      <td>1.006192</td>\n",
       "      <td>25.099390</td>\n",
       "      <td>62.235279</td>\n",
       "      <td>98.644371</td>\n",
       "      <td>2.278575</td>\n",
       "      <td>1.443152</td>\n",
       "      <td>3.0</td>\n",
       "    </tr>\n",
       "    <tr>\n",
       "      <th>2</th>\n",
       "      <td>120.864098</td>\n",
       "      <td>15.68147</td>\n",
       "      <td>1.296362</td>\n",
       "      <td>0.096331</td>\n",
       "      <td>23.742620</td>\n",
       "      <td>997.596619</td>\n",
       "      <td>1.240946</td>\n",
       "      <td>1.035563</td>\n",
       "      <td>1.028881</td>\n",
       "      <td>0.000476</td>\n",
       "      <td>0.095639</td>\n",
       "      <td>1.006467</td>\n",
       "      <td>25.106461</td>\n",
       "      <td>62.227440</td>\n",
       "      <td>98.646057</td>\n",
       "      <td>2.299793</td>\n",
       "      <td>1.443183</td>\n",
       "      <td>3.0</td>\n",
       "    </tr>\n",
       "  </tbody>\n",
       "</table>\n",
       "</div>"
      ],
      "text/plain": [
       "        AirIn     Air.T     Air.P   WaterIn    Water.T  Water.Density  \\\n",
       "0  121.053596  15.68166  1.301107  0.096309  23.748079     997.596497   \n",
       "1  120.982101  15.68156  1.298735  0.096320  23.745350     997.596619   \n",
       "2  120.864098  15.68147  1.296362  0.096331  23.742620     997.596619   \n",
       "\n",
       "   Mixture.zone.P  riser.outlet.P  P.topsep  FR.topsep.gas  FR.topsep.liquid  \\\n",
       "0        1.240097        1.025907  1.027175       0.000491          0.064845   \n",
       "1        1.236252        1.027934  1.027277       0.000483          0.095639   \n",
       "2        1.240946        1.035563  1.028881       0.000476          0.095639   \n",
       "\n",
       "   P_3phase  Air.Valve  Water.level  Water.coalescer  Water.level.valve  \\\n",
       "0  1.005916  25.092310    62.243111        98.642677           2.257356   \n",
       "1  1.006192  25.099390    62.235279        98.644371           2.278575   \n",
       "2  1.006467  25.106461    62.227440        98.646057           2.299793   \n",
       "\n",
       "   water.tank.level  Fault  \n",
       "0          1.443121    3.0  \n",
       "1          1.443152    3.0  \n",
       "2          1.443183    3.0  "
      ]
     },
     "execution_count": 5,
     "metadata": {},
     "output_type": "execute_result"
    }
   ],
   "source": [
    "pronto_data = pd.read_csv(BASE_PATH + \"Data\\Pronto.csv\")\n",
    "pronto_data.head(3)"
   ]
  },
  {
   "cell_type": "code",
   "execution_count": 6,
   "metadata": {},
   "outputs": [
    {
     "name": "stdout",
     "output_type": "stream",
     "text": [
      "The number of unique labels in the dataset: [0. 1. 2. 3. 4.]\n",
      "\n",
      "\n",
      "The distribution of class labels:\n"
     ]
    },
    {
     "data": {
      "text/plain": [
       "3.0    11899\n",
       "2.0    11519\n",
       "0.0     8880\n",
       "1.0     8279\n",
       "4.0     4843\n",
       "Name: Fault, dtype: int64"
      ]
     },
     "execution_count": 6,
     "metadata": {},
     "output_type": "execute_result"
    }
   ],
   "source": [
    "print(\"The number of unique labels in the dataset: {}\".format(np.unique(pronto_data[\"Fault\"])))\n",
    "print(\"\\n\\nThe distribution of class labels:\")\n",
    "pronto_data[\"Fault\"].value_counts()"
   ]
  },
  {
   "cell_type": "code",
   "execution_count": 7,
   "metadata": {},
   "outputs": [
    {
     "name": "stdout",
     "output_type": "stream",
     "text": [
      "Categorizing labels for the data file...\n",
      "completed\n"
     ]
    }
   ],
   "source": [
    "label_encoder = LabelEncoder()\n",
    "pronto_features = pronto_data.iloc[:, :-1]\n",
    "pronto_labels = pronto_data.iloc[:, -1]\n",
    "debug(\"Categorizing labels for the data file...\")\n",
    "pronto_labels_encoded = label_encoder.fit_transform(pronto_labels)\n",
    "\n",
    "\n",
    "pronto_data_new = pd.DataFrame(np.column_stack((pronto_features, pronto_labels_encoded)), columns=pronto_data.columns)\n",
    "debug(\"completed\")"
   ]
  },
  {
   "cell_type": "code",
   "execution_count": 8,
   "metadata": {},
   "outputs": [
    {
     "name": "stdout",
     "output_type": "stream",
     "text": [
      "[0 1 2 3 4]\n"
     ]
    }
   ],
   "source": [
    "print(np.unique(pronto_labels_encoded))"
   ]
  },
  {
   "cell_type": "code",
   "execution_count": 9,
   "metadata": {},
   "outputs": [],
   "source": [
    "for i in range(1,4):\n",
    "    samples = np.random.randint(1000, 1500)\n",
    "    sampled_data = pronto_data_new.groupby('Fault').apply(lambda x: x.sample(n=samples, replace=True)).reset_index(drop=True)\n",
    "    sampled_data.to_csv(BASE_PATH + f'Data\\client{i}.csv', index=False)\n",
    "\n",
    "# for i in range(1,11):\n",
    "#     pronto_data_new.to_csv(f'C:\\Adarsh work\\CDAFedAvg\\Data\\client{i}.csv', index=False)"
   ]
  },
  {
   "cell_type": "code",
   "execution_count": 10,
   "metadata": {},
   "outputs": [],
   "source": [
    "sampled_data = pronto_data_new.groupby('Fault').apply(lambda x: x.sample(n=100, replace=True)).reset_index(drop=True)\n",
    "sampled_data.to_csv(BASE_PATH + f'Data\\server.csv', index=False)"
   ]
  },
  {
   "cell_type": "code",
   "execution_count": 16,
   "metadata": {},
   "outputs": [
    {
     "data": {
      "text/plain": [
       "(45420, 18)"
      ]
     },
     "execution_count": 16,
     "metadata": {},
     "output_type": "execute_result"
    }
   ],
   "source": [
    "sampled_data.shape\n",
    "pronto_data_new.shape"
   ]
  },
  {
   "cell_type": "code",
   "execution_count": 5,
   "metadata": {},
   "outputs": [
    {
     "data": {
      "text/plain": [
       "1238"
      ]
     },
     "execution_count": 5,
     "metadata": {},
     "output_type": "execute_result"
    }
   ],
   "source": [
    "import numpy as np\n",
    "\n"
   ]
  },
  {
   "cell_type": "code",
   "execution_count": null,
   "metadata": {},
   "outputs": [],
   "source": []
  }
 ],
 "metadata": {
  "kernelspec": {
   "display_name": "Python 3",
   "language": "python",
   "name": "python3"
  },
  "language_info": {
   "codemirror_mode": {
    "name": "ipython",
    "version": 3
   },
   "file_extension": ".py",
   "mimetype": "text/x-python",
   "name": "python",
   "nbconvert_exporter": "python",
   "pygments_lexer": "ipython3",
   "version": "3.9.12"
  },
  "orig_nbformat": 4
 },
 "nbformat": 4,
 "nbformat_minor": 2
}
