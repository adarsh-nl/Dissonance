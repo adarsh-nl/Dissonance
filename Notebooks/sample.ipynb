{
 "cells": [
  {
   "cell_type": "code",
   "execution_count": 1,
   "metadata": {},
   "outputs": [],
   "source": [
    "import pandas as pd \n",
    "import numpy as np \n",
    "import sys\n",
    "sys.path.append('../')"
   ]
  },
  {
   "cell_type": "code",
   "execution_count": 3,
   "metadata": {},
   "outputs": [],
   "source": [
    "data = pd.read_csv('C:\\Adarsh work\\Dissonance\\Data\\client3.csv')\n"
   ]
  },
  {
   "cell_type": "code",
   "execution_count": 8,
   "metadata": {},
   "outputs": [],
   "source": [
    "import pandas as pd\n",
    "import numpy as np\n",
    "\n",
    "def introduce_label_drift(data, min_samples=5, max_samples=2000):\n",
    "    \"\"\"\n",
    "    Introduces label drift by changing the distribution of class frequencies.\n",
    "\n",
    "    Parameters:\n",
    "    - data: pandas DataFrame, the original data\n",
    "    - min_samples: int, minimum number of samples per class (default: 5)\n",
    "    - max_samples: int, maximum number of samples per class (default: 2000)\n",
    "\n",
    "    Returns:\n",
    "    - drifted_data: pandas DataFrame, the data with label drift\n",
    "    \"\"\"\n",
    "\n",
    "    # Copy the original data to avoid modifying the original DataFrame\n",
    "    drifted_data = data.copy()\n",
    "\n",
    "    # Shuffle the samples randomly\n",
    "    drifted_data = drifted_data.sample(frac=1, random_state=42).reset_index(drop=True)\n",
    "\n",
    "    # Determine the number of classes dynamically\n",
    "    num_classes = len(drifted_data['Fault'].unique())\n",
    "\n",
    "    # Randomly generate the number of samples for each class\n",
    "    class_sizes = np.random.randint(min_samples, max_samples + 1, num_classes)\n",
    "\n",
    "    # Create a dictionary to map class labels to their new sizes\n",
    "    new_class_sizes = dict(zip(drifted_data['Fault'].unique(), class_sizes))\n",
    "\n",
    "    # Update the class sizes in the DataFrame\n",
    "    drifted_data['Fault'] = drifted_data['Fault'].map(new_class_sizes)\n",
    "\n",
    "    return drifted_data\n",
    "\n",
    "\n",
    "drifted_data = introduce_label_drift(data)"
   ]
  },
  {
   "cell_type": "code",
   "execution_count": 9,
   "metadata": {},
   "outputs": [
    {
     "data": {
      "text/html": [
       "<div>\n",
       "<style scoped>\n",
       "    .dataframe tbody tr th:only-of-type {\n",
       "        vertical-align: middle;\n",
       "    }\n",
       "\n",
       "    .dataframe tbody tr th {\n",
       "        vertical-align: top;\n",
       "    }\n",
       "\n",
       "    .dataframe thead th {\n",
       "        text-align: right;\n",
       "    }\n",
       "</style>\n",
       "<table border=\"1\" class=\"dataframe\">\n",
       "  <thead>\n",
       "    <tr style=\"text-align: right;\">\n",
       "      <th></th>\n",
       "      <th>AirIn</th>\n",
       "      <th>Air.T</th>\n",
       "      <th>Air.P</th>\n",
       "      <th>WaterIn</th>\n",
       "      <th>Water.T</th>\n",
       "      <th>Water.Density</th>\n",
       "      <th>Mixture.zone.P</th>\n",
       "      <th>riser.outlet.P</th>\n",
       "      <th>P.topsep</th>\n",
       "      <th>FR.topsep.gas</th>\n",
       "      <th>FR.topsep.liquid</th>\n",
       "      <th>P_3phase</th>\n",
       "      <th>Air.Valve</th>\n",
       "      <th>Water.level</th>\n",
       "      <th>Water.coalescer</th>\n",
       "      <th>Water.level.valve</th>\n",
       "      <th>water.tank.level</th>\n",
       "      <th>Fault</th>\n",
       "    </tr>\n",
       "  </thead>\n",
       "  <tbody>\n",
       "    <tr>\n",
       "      <th>0</th>\n",
       "      <td>205.920197</td>\n",
       "      <td>18.820471</td>\n",
       "      <td>1.811300</td>\n",
       "      <td>0.488443</td>\n",
       "      <td>23.563730</td>\n",
       "      <td>991.045715</td>\n",
       "      <td>1.463883</td>\n",
       "      <td>1.162881</td>\n",
       "      <td>1.025986</td>\n",
       "      <td>1.451383e+01</td>\n",
       "      <td>1.080904</td>\n",
       "      <td>1.000355</td>\n",
       "      <td>30.026319</td>\n",
       "      <td>62.808521</td>\n",
       "      <td>98.666527</td>\n",
       "      <td>8.685666</td>\n",
       "      <td>1.426647</td>\n",
       "      <td>1147</td>\n",
       "    </tr>\n",
       "    <tr>\n",
       "      <th>1</th>\n",
       "      <td>119.251198</td>\n",
       "      <td>17.713659</td>\n",
       "      <td>1.242372</td>\n",
       "      <td>0.096595</td>\n",
       "      <td>23.500919</td>\n",
       "      <td>996.708923</td>\n",
       "      <td>1.280303</td>\n",
       "      <td>1.013152</td>\n",
       "      <td>1.017374</td>\n",
       "      <td>2.663070e-04</td>\n",
       "      <td>0.073828</td>\n",
       "      <td>0.996932</td>\n",
       "      <td>25.074200</td>\n",
       "      <td>62.009010</td>\n",
       "      <td>98.706902</td>\n",
       "      <td>2.086132</td>\n",
       "      <td>1.422017</td>\n",
       "      <td>1084</td>\n",
       "    </tr>\n",
       "    <tr>\n",
       "      <th>2</th>\n",
       "      <td>148.047806</td>\n",
       "      <td>16.080870</td>\n",
       "      <td>1.761979</td>\n",
       "      <td>0.496382</td>\n",
       "      <td>25.385830</td>\n",
       "      <td>996.182617</td>\n",
       "      <td>1.427648</td>\n",
       "      <td>1.111381</td>\n",
       "      <td>1.019348</td>\n",
       "      <td>6.352522e+00</td>\n",
       "      <td>0.981936</td>\n",
       "      <td>0.996302</td>\n",
       "      <td>27.332809</td>\n",
       "      <td>61.886330</td>\n",
       "      <td>98.602837</td>\n",
       "      <td>8.061992</td>\n",
       "      <td>1.440655</td>\n",
       "      <td>1933</td>\n",
       "    </tr>\n",
       "    <tr>\n",
       "      <th>3</th>\n",
       "      <td>120.042702</td>\n",
       "      <td>17.891621</td>\n",
       "      <td>1.225014</td>\n",
       "      <td>0.092763</td>\n",
       "      <td>23.336910</td>\n",
       "      <td>996.859497</td>\n",
       "      <td>1.285850</td>\n",
       "      <td>1.010290</td>\n",
       "      <td>1.021603</td>\n",
       "      <td>2.250000e-05</td>\n",
       "      <td>0.075578</td>\n",
       "      <td>0.999444</td>\n",
       "      <td>25.177670</td>\n",
       "      <td>62.001579</td>\n",
       "      <td>98.858498</td>\n",
       "      <td>2.470246</td>\n",
       "      <td>1.419776</td>\n",
       "      <td>1084</td>\n",
       "    </tr>\n",
       "    <tr>\n",
       "      <th>4</th>\n",
       "      <td>120.223900</td>\n",
       "      <td>17.808069</td>\n",
       "      <td>1.251812</td>\n",
       "      <td>0.094562</td>\n",
       "      <td>23.406700</td>\n",
       "      <td>996.788818</td>\n",
       "      <td>1.288473</td>\n",
       "      <td>1.032225</td>\n",
       "      <td>1.021723</td>\n",
       "      <td>1.460000e-07</td>\n",
       "      <td>0.063584</td>\n",
       "      <td>0.998931</td>\n",
       "      <td>25.182550</td>\n",
       "      <td>62.047951</td>\n",
       "      <td>98.760986</td>\n",
       "      <td>2.685479</td>\n",
       "      <td>1.419905</td>\n",
       "      <td>1084</td>\n",
       "    </tr>\n",
       "  </tbody>\n",
       "</table>\n",
       "</div>"
      ],
      "text/plain": [
       "        AirIn      Air.T     Air.P   WaterIn    Water.T  Water.Density  \\\n",
       "0  205.920197  18.820471  1.811300  0.488443  23.563730     991.045715   \n",
       "1  119.251198  17.713659  1.242372  0.096595  23.500919     996.708923   \n",
       "2  148.047806  16.080870  1.761979  0.496382  25.385830     996.182617   \n",
       "3  120.042702  17.891621  1.225014  0.092763  23.336910     996.859497   \n",
       "4  120.223900  17.808069  1.251812  0.094562  23.406700     996.788818   \n",
       "\n",
       "   Mixture.zone.P  riser.outlet.P  P.topsep  FR.topsep.gas  FR.topsep.liquid  \\\n",
       "0        1.463883        1.162881  1.025986   1.451383e+01          1.080904   \n",
       "1        1.280303        1.013152  1.017374   2.663070e-04          0.073828   \n",
       "2        1.427648        1.111381  1.019348   6.352522e+00          0.981936   \n",
       "3        1.285850        1.010290  1.021603   2.250000e-05          0.075578   \n",
       "4        1.288473        1.032225  1.021723   1.460000e-07          0.063584   \n",
       "\n",
       "   P_3phase  Air.Valve  Water.level  Water.coalescer  Water.level.valve  \\\n",
       "0  1.000355  30.026319    62.808521        98.666527           8.685666   \n",
       "1  0.996932  25.074200    62.009010        98.706902           2.086132   \n",
       "2  0.996302  27.332809    61.886330        98.602837           8.061992   \n",
       "3  0.999444  25.177670    62.001579        98.858498           2.470246   \n",
       "4  0.998931  25.182550    62.047951        98.760986           2.685479   \n",
       "\n",
       "   water.tank.level  Fault  \n",
       "0          1.426647   1147  \n",
       "1          1.422017   1084  \n",
       "2          1.440655   1933  \n",
       "3          1.419776   1084  \n",
       "4          1.419905   1084  "
      ]
     },
     "execution_count": 9,
     "metadata": {},
     "output_type": "execute_result"
    }
   ],
   "source": [
    "drifted_data.head()"
   ]
  },
  {
   "cell_type": "code",
   "execution_count": 10,
   "metadata": {},
   "outputs": [
    {
     "data": {
      "text/plain": [
       "array([ 560, 1084, 1147, 1530, 1933])"
      ]
     },
     "execution_count": 10,
     "metadata": {},
     "output_type": "execute_result"
    }
   ],
   "source": [
    "np.unique(drifted_data['Fault'])"
   ]
  },
  {
   "cell_type": "code",
   "execution_count": 18,
   "metadata": {},
   "outputs": [],
   "source": [
    "import pandas as pd\n",
    "import numpy as np\n",
    "\n",
    "import pandas as pd\n",
    "import numpy as np\n",
    "\n",
    "def generate_skewed_distribution(csv_file_path, min_samples=10, max_samples=1000):\n",
    "    # Load CSV file into a DataFrame\n",
    "    df = pd.read_csv(csv_file_path)\n",
    "\n",
    "    # Assuming the CSV file has a column named 'class' representing the class labels\n",
    "    class_column = 'Fault'\n",
    "\n",
    "    # Count the number of classes and their occurrences\n",
    "    class_counts = df[class_column].value_counts()\n",
    "\n",
    "    # Generate a random number of samples for each class within the specified range\n",
    "    skewed_counts = {\n",
    "        class_label: np.random.randint(min_samples, max_samples + 1)\n",
    "        for class_label in class_counts.index\n",
    "    }\n",
    "\n",
    "    # Initialize an empty DataFrame to store the skewed distribution\n",
    "    skewed_df = pd.DataFrame(columns=df.columns)\n",
    "\n",
    "    # Generate the skewed distribution\n",
    "    for class_label, count in skewed_counts.items():\n",
    "        # Filter rows with the current class label\n",
    "        class_rows = df[df[class_column] == class_label]\n",
    "\n",
    "        # Randomly sample rows with replacement to achieve the desired count\n",
    "        sampled_rows = class_rows.sample(count, replace=True)\n",
    "\n",
    "        # Concatenate the sampled rows to the skewed DataFrame\n",
    "        skewed_df = pd.concat([skewed_df, sampled_rows])\n",
    "\n",
    "    return skewed_df\n",
    "\n",
    "# Example usage:\n",
    "# Replace 'your_file.csv' with the actual file path\n",
    "skewed_data = generate_skewed_distribution('C:\\Adarsh work\\Dissonance\\Data\\client3.csv', min_samples=10, max_samples=1000)\n"
   ]
  },
  {
   "cell_type": "code",
   "execution_count": 19,
   "metadata": {},
   "outputs": [
    {
     "data": {
      "text/html": [
       "<div>\n",
       "<style scoped>\n",
       "    .dataframe tbody tr th:only-of-type {\n",
       "        vertical-align: middle;\n",
       "    }\n",
       "\n",
       "    .dataframe tbody tr th {\n",
       "        vertical-align: top;\n",
       "    }\n",
       "\n",
       "    .dataframe thead th {\n",
       "        text-align: right;\n",
       "    }\n",
       "</style>\n",
       "<table border=\"1\" class=\"dataframe\">\n",
       "  <thead>\n",
       "    <tr style=\"text-align: right;\">\n",
       "      <th></th>\n",
       "      <th>AirIn</th>\n",
       "      <th>Air.T</th>\n",
       "      <th>Air.P</th>\n",
       "      <th>WaterIn</th>\n",
       "      <th>Water.T</th>\n",
       "      <th>Water.Density</th>\n",
       "      <th>Mixture.zone.P</th>\n",
       "      <th>riser.outlet.P</th>\n",
       "      <th>P.topsep</th>\n",
       "      <th>FR.topsep.gas</th>\n",
       "      <th>FR.topsep.liquid</th>\n",
       "      <th>P_3phase</th>\n",
       "      <th>Air.Valve</th>\n",
       "      <th>Water.level</th>\n",
       "      <th>Water.coalescer</th>\n",
       "      <th>Water.level.valve</th>\n",
       "      <th>water.tank.level</th>\n",
       "      <th>Fault</th>\n",
       "    </tr>\n",
       "  </thead>\n",
       "  <tbody>\n",
       "    <tr>\n",
       "      <th>1497</th>\n",
       "      <td>118.776703</td>\n",
       "      <td>16.296671</td>\n",
       "      <td>1.848486</td>\n",
       "      <td>0.100221</td>\n",
       "      <td>23.343889</td>\n",
       "      <td>997.834717</td>\n",
       "      <td>1.208015</td>\n",
       "      <td>1.020066</td>\n",
       "      <td>1.025318</td>\n",
       "      <td>0.018410</td>\n",
       "      <td>0.072213</td>\n",
       "      <td>1.002420</td>\n",
       "      <td>25.294201</td>\n",
       "      <td>62.097290</td>\n",
       "      <td>98.751038</td>\n",
       "      <td>1.915424</td>\n",
       "      <td>1.447433</td>\n",
       "      <td>0.0</td>\n",
       "    </tr>\n",
       "    <tr>\n",
       "      <th>1097</th>\n",
       "      <td>122.212402</td>\n",
       "      <td>15.728350</td>\n",
       "      <td>1.299787</td>\n",
       "      <td>0.099559</td>\n",
       "      <td>23.448570</td>\n",
       "      <td>997.716614</td>\n",
       "      <td>1.225244</td>\n",
       "      <td>1.026742</td>\n",
       "      <td>1.019946</td>\n",
       "      <td>0.000109</td>\n",
       "      <td>0.083093</td>\n",
       "      <td>0.999138</td>\n",
       "      <td>24.897110</td>\n",
       "      <td>62.163601</td>\n",
       "      <td>98.647827</td>\n",
       "      <td>3.360496</td>\n",
       "      <td>1.445514</td>\n",
       "      <td>0.0</td>\n",
       "    </tr>\n",
       "    <tr>\n",
       "      <th>657</th>\n",
       "      <td>148.720200</td>\n",
       "      <td>16.002630</td>\n",
       "      <td>1.756519</td>\n",
       "      <td>0.496188</td>\n",
       "      <td>25.385830</td>\n",
       "      <td>996.151672</td>\n",
       "      <td>1.458419</td>\n",
       "      <td>1.149529</td>\n",
       "      <td>1.027175</td>\n",
       "      <td>6.108880</td>\n",
       "      <td>0.762894</td>\n",
       "      <td>1.001948</td>\n",
       "      <td>27.500771</td>\n",
       "      <td>62.031261</td>\n",
       "      <td>98.626778</td>\n",
       "      <td>8.220104</td>\n",
       "      <td>1.442606</td>\n",
       "      <td>0.0</td>\n",
       "    </tr>\n",
       "    <tr>\n",
       "      <th>406</th>\n",
       "      <td>120.767502</td>\n",
       "      <td>15.624480</td>\n",
       "      <td>1.283824</td>\n",
       "      <td>0.099205</td>\n",
       "      <td>23.570021</td>\n",
       "      <td>997.653503</td>\n",
       "      <td>1.220954</td>\n",
       "      <td>1.022688</td>\n",
       "      <td>1.026856</td>\n",
       "      <td>0.000603</td>\n",
       "      <td>0.085945</td>\n",
       "      <td>1.005147</td>\n",
       "      <td>25.093269</td>\n",
       "      <td>61.757420</td>\n",
       "      <td>98.638390</td>\n",
       "      <td>2.443465</td>\n",
       "      <td>1.444160</td>\n",
       "      <td>0.0</td>\n",
       "    </tr>\n",
       "    <tr>\n",
       "      <th>1689</th>\n",
       "      <td>148.715393</td>\n",
       "      <td>15.967700</td>\n",
       "      <td>1.709422</td>\n",
       "      <td>0.497980</td>\n",
       "      <td>26.297230</td>\n",
       "      <td>993.399414</td>\n",
       "      <td>1.504638</td>\n",
       "      <td>1.136177</td>\n",
       "      <td>1.021824</td>\n",
       "      <td>7.189635</td>\n",
       "      <td>0.813373</td>\n",
       "      <td>1.001471</td>\n",
       "      <td>27.066120</td>\n",
       "      <td>61.993111</td>\n",
       "      <td>98.619530</td>\n",
       "      <td>9.403731</td>\n",
       "      <td>1.440661</td>\n",
       "      <td>0.0</td>\n",
       "    </tr>\n",
       "  </tbody>\n",
       "</table>\n",
       "</div>"
      ],
      "text/plain": [
       "           AirIn      Air.T     Air.P   WaterIn    Water.T  Water.Density  \\\n",
       "1497  118.776703  16.296671  1.848486  0.100221  23.343889     997.834717   \n",
       "1097  122.212402  15.728350  1.299787  0.099559  23.448570     997.716614   \n",
       "657   148.720200  16.002630  1.756519  0.496188  25.385830     996.151672   \n",
       "406   120.767502  15.624480  1.283824  0.099205  23.570021     997.653503   \n",
       "1689  148.715393  15.967700  1.709422  0.497980  26.297230     993.399414   \n",
       "\n",
       "      Mixture.zone.P  riser.outlet.P  P.topsep  FR.topsep.gas  \\\n",
       "1497        1.208015        1.020066  1.025318       0.018410   \n",
       "1097        1.225244        1.026742  1.019946       0.000109   \n",
       "657         1.458419        1.149529  1.027175       6.108880   \n",
       "406         1.220954        1.022688  1.026856       0.000603   \n",
       "1689        1.504638        1.136177  1.021824       7.189635   \n",
       "\n",
       "      FR.topsep.liquid  P_3phase  Air.Valve  Water.level  Water.coalescer  \\\n",
       "1497          0.072213  1.002420  25.294201    62.097290        98.751038   \n",
       "1097          0.083093  0.999138  24.897110    62.163601        98.647827   \n",
       "657           0.762894  1.001948  27.500771    62.031261        98.626778   \n",
       "406           0.085945  1.005147  25.093269    61.757420        98.638390   \n",
       "1689          0.813373  1.001471  27.066120    61.993111        98.619530   \n",
       "\n",
       "      Water.level.valve  water.tank.level  Fault  \n",
       "1497           1.915424          1.447433    0.0  \n",
       "1097           3.360496          1.445514    0.0  \n",
       "657            8.220104          1.442606    0.0  \n",
       "406            2.443465          1.444160    0.0  \n",
       "1689           9.403731          1.440661    0.0  "
      ]
     },
     "execution_count": 19,
     "metadata": {},
     "output_type": "execute_result"
    }
   ],
   "source": [
    "skewed_data.head()"
   ]
  },
  {
   "cell_type": "code",
   "execution_count": 20,
   "metadata": {},
   "outputs": [
    {
     "data": {
      "text/plain": [
       "array([0., 1., 2., 3., 4.])"
      ]
     },
     "execution_count": 20,
     "metadata": {},
     "output_type": "execute_result"
    }
   ],
   "source": [
    "np.unique(skewed_data[\"Fault\"])"
   ]
  },
  {
   "cell_type": "code",
   "execution_count": 21,
   "metadata": {},
   "outputs": [
    {
     "data": {
      "text/plain": [
       "3.0    717\n",
       "1.0    506\n",
       "2.0    468\n",
       "0.0    372\n",
       "4.0    183\n",
       "Name: Fault, dtype: int64"
      ]
     },
     "execution_count": 21,
     "metadata": {},
     "output_type": "execute_result"
    }
   ],
   "source": [
    "skewed_data['Fault'].value_counts()"
   ]
  },
  {
   "cell_type": "code",
   "execution_count": 15,
   "metadata": {},
   "outputs": [
    {
     "data": {
      "text/plain": [
       "(20000, 18)"
      ]
     },
     "execution_count": 15,
     "metadata": {},
     "output_type": "execute_result"
    }
   ],
   "source": [
    "skewed_data.shape"
   ]
  },
  {
   "cell_type": "code",
   "execution_count": 37,
   "metadata": {},
   "outputs": [
    {
     "name": "stdout",
     "output_type": "stream",
     "text": [
      "0.7310585786300049\n"
     ]
    }
   ],
   "source": [
    "print(1/(1+np.exp(-1)))"
   ]
  },
  {
   "cell_type": "code",
   "execution_count": 3,
   "metadata": {},
   "outputs": [
    {
     "name": "stdout",
     "output_type": "stream",
     "text": [
      "-23.661264499999998\n"
     ]
    }
   ],
   "source": [
    "def dtoa(d):\n",
    "    a = 1 - ((d**2)/2)\n",
    "    return a\n",
    "\n",
    "d = 7.023\n",
    "a = dtoa(d)\n",
    "print(a)"
   ]
  },
  {
   "cell_type": "code",
   "execution_count": 3,
   "metadata": {},
   "outputs": [
    {
     "name": "stdout",
     "output_type": "stream",
     "text": [
      "def start_client1(alg):\n",
      "\tif alg == \"CDA-FedAvg\":\n",
      "\t\tcdafedvg()\n",
      "\telif alg ==\"Feddrift\"\n",
      "\t\tfeddrift()\n",
      "\telif alg==\"Dissonance\"\n",
      "\t\tpass\n"
     ]
    }
   ],
   "source": [
    "line = f'def start_client{1}(alg):\\n\\tif alg == \"CDA-FedAvg\":\\n\\t\\tcdafedvg()\\n\\telif alg ==\"Feddrift\"\\n\\t\\tfeddrift()\\n\\telif alg==\"Dissonance\"\\n\\t\\tpass'\n",
    "print(line)"
   ]
  },
  {
   "cell_type": "code",
   "execution_count": 1,
   "metadata": {},
   "outputs": [],
   "source": [
    "import json\n",
    "# Construct current_cluster as a dictionary\n",
    "current_cluster_dict = {1: [1, 2]}\n",
    "# Convert it to a string to pass as a command-line argument\n",
    "current_cluster_str = json.dumps(current_cluster_dict)"
   ]
  },
  {
   "cell_type": "code",
   "execution_count": 3,
   "metadata": {},
   "outputs": [
    {
     "name": "stdout",
     "output_type": "stream",
     "text": [
      "Initial dict: {1: [1, 2]}\n",
      "Modified dict: {\"1\": [1, 2]}\n"
     ]
    }
   ],
   "source": [
    "print(f'Initial dict: {current_cluster_dict}')\n",
    "print(f'Modified dict: {current_cluster_str}')"
   ]
  },
  {
   "cell_type": "code",
   "execution_count": 9,
   "metadata": {},
   "outputs": [
    {
     "data": {
      "text/plain": [
       "list"
      ]
     },
     "execution_count": 9,
     "metadata": {},
     "output_type": "execute_result"
    }
   ],
   "source": [
    "level1 = ['{1: [1, 2]}']\n",
    "type(level1)"
   ]
  },
  {
   "cell_type": "code",
   "execution_count": 8,
   "metadata": {},
   "outputs": [
    {
     "name": "stdout",
     "output_type": "stream",
     "text": [
      "{1: [1, 2]}\n"
     ]
    }
   ],
   "source": [
    "import ast\n",
    "\n",
    "level1 = ['{1: [1, 2]}']\n",
    "\n",
    "# Extracting the string from the list\n",
    "string_representation = level1[0]\n",
    "\n",
    "# Using ast.literal_eval to safely evaluate the string as a dictionary\n",
    "result_dict = ast.literal_eval(string_representation)\n",
    "\n",
    "print(result_dict)"
   ]
  },
  {
   "cell_type": "code",
   "execution_count": 9,
   "metadata": {},
   "outputs": [
    {
     "name": "stdout",
     "output_type": "stream",
     "text": [
      "dict_items([(1, [1, 2])])\n"
     ]
    }
   ],
   "source": [
    "print(result_dict.items())"
   ]
  },
  {
   "cell_type": "code",
   "execution_count": 23,
   "metadata": {},
   "outputs": [
    {
     "name": "stdout",
     "output_type": "stream",
     "text": [
      "Vanakam da mapla\n"
     ]
    }
   ],
   "source": [
    "dict1 = {1: [1, 2]}\n",
    "dict2 = {1: [1, 2, 3]}\n",
    "\n",
    "if dict1 != dict2:\n",
    "    print(\"Vanakam da mapla\")\n",
    "else:\n",
    "    print(\"Varataaaaaa\")"
   ]
  },
  {
   "cell_type": "code",
   "execution_count": 24,
   "metadata": {},
   "outputs": [
    {
     "name": "stdout",
     "output_type": "stream",
     "text": [
      "{1: [1, 5], 2: [2, 3, 4]}\n"
     ]
    }
   ],
   "source": [
    "\n",
    "\n",
    "def get_updated_clusters_from_server():\n",
    "    # Load JSON file\n",
    "    file_path = 'C:\\Adarsh work\\Dissonance\\Results\\Clusters\\current_cluster_round3.json'\n",
    "    with open(file_path, 'r') as file:\n",
    "        data = json.load(file)\n",
    "\n",
    "    # Convert keys from strings to integers\n",
    "    converted_cluster = {int(key): value for key, value in data.items()}\n",
    "\n",
    "    return converted_cluster\n",
    "\n",
    "cluster = get_updated_clusters_from_server()\n",
    "print(cluster)"
   ]
  },
  {
   "cell_type": "code",
   "execution_count": 2,
   "metadata": {},
   "outputs": [
    {
     "name": "stdout",
     "output_type": "stream",
     "text": [
      "['Server', 'Client1', 'Client2', 'Client3', 'Client4', 'Client5', 'Client6', 'Client7', 'Client8', 'Client9', 'Client10']\n"
     ]
    }
   ],
   "source": [
    "sample_list = ['Server']\n",
    "\n",
    "NUM_CLIENTS = 10\n",
    "for i in range(1, NUM_CLIENTS + 1):\n",
    "    name = f'Client{i}'\n",
    "    sample_list.append(name)\n",
    "\n",
    "print(sample_list)"
   ]
  },
  {
   "cell_type": "code",
   "execution_count": null,
   "metadata": {},
   "outputs": [],
   "source": [
    "import tensorflow as tf\n",
    "import matplotlib.pyplot as plt\n",
    "\n",
    "def evaluate_base_model_and_plot_stacked_bar_chart(client_id, X_test, Y_test):\n",
    "  \"\"\"\n",
    "  Loads a TensorFlow model, evaluates it on class-wise data, and plots a stacked bar graph.\n",
    "\n",
    "  Args:\n",
    "    model_path: Path to the saved TensorFlow model.\n",
    "    X_test: The test data features.\n",
    "    Y_test: The test data labels.\n",
    "\n",
    "  Returns:\n",
    "    None. Plots the stacked bar graph.\n",
    "  \"\"\"\n",
    "\n",
    "  # Load the model\n",
    "  model_path = f\"C:\\Adarsh work\\Dissonance\\Results\\client{client_id}\\\\base_model.h5\"\n",
    "  model = tf.keras.models.load_model(model_path)\n",
    "\n",
    "  # Evaluate the model\n",
    "  predictions = model.predict(X_test)\n",
    "  predicted_classes = tf.argmax(predictions, axis=1)\n",
    "  loss, accuracy = model.evaluate(X_test, Y_test)\n",
    "\n",
    "  # Calculate class-wise metrics\n",
    "  num_classes = len(tf.unique(Y_test).numpy())\n",
    "  class_counts = tf.zeros(num_classes, dtype=tf.int32)\n",
    "  correct_predictions = tf.zeros(num_classes, dtype=tf.int32)\n",
    "  for i in range(len(Y_test)):\n",
    "    class_counts[Y_test[i]] += 1\n",
    "    correct_predictions[predicted_classes[i]] += int(predicted_classes[i] == Y_test[i])\n",
    "\n",
    "  # Prepare data for the bar graph\n",
    "  class_labels = tf.unique(Y_test).numpy()\n",
    "  total_samples = class_counts.numpy()\n",
    "  correct_samples = correct_predictions.numpy()\n",
    "  incorrect_samples = total_samples - correct_samples\n",
    "\n",
    "  # Create the stacked bar graph\n",
    "  plt.figure(figsize=(10, 6))\n",
    "  bar_width = 0.35\n",
    "  x = range(len(class_labels))\n",
    "  plt.bar(x, correct_samples, bar_width, label='Correct Predictions', color='green')\n",
    "  plt.bar([i + bar_width for i in x], incorrect_samples, bar_width, label='Incorrect Predictions', color='red')\n",
    "  plt.xlabel('Class Label')\n",
    "  plt.ylabel('Number of Samples')\n",
    "  plt.title('Class-Wise Performance of TensorFlow Model')\n",
    "  plt.xticks([i + bar_width / 2 for i in x], class_labels)\n",
    "  plt.legend()\n",
    "  plt.tight_layout()\n",
    "  plt.show()\n"
   ]
  },
  {
   "cell_type": "code",
   "execution_count": 5,
   "metadata": {},
   "outputs": [
    {
     "name": "stdout",
     "output_type": "stream",
     "text": [
      "6\n",
      "[3 1 1 1 2 1]\n"
     ]
    }
   ],
   "source": [
    "import numpy as np\n",
    "\n",
    "a = np.array([[1,1,1],[2,3,4],[5,6,5]])\n",
    "\n",
    "# Count the number of occurrences of each unique item\n",
    "unique, counts = np.unique(a, return_counts=True)\n",
    "\n",
    "# The number of unique items is the length of the unique array\n",
    "number_of_unique_items = len(unique)\n",
    "\n",
    "print(number_of_unique_items) \n",
    "print(counts)"
   ]
  },
  {
   "cell_type": "code",
   "execution_count": 5,
   "metadata": {},
   "outputs": [
    {
     "data": {
      "image/png": "[encoded data removed]",
      "text/plain": [
       "<Figure size 432x288 with 1 Axes>"
      ]
     },
     "metadata": {
      "needs_background": "light"
     },
     "output_type": "display_data"
    }
   ],
   "source": [
    "import seaborn as sns\n",
    "import pandas as pd\n",
    "import matplotlib.pyplot as plt\n",
    "\n",
    "def visualize_clusters(json_data):\n",
    "    data = []\n",
    "    for cluster, clients in json_data.items():\n",
    "        data.extend([(int(cluster), client) for client in clients])\n",
    "\n",
    "    df = pd.DataFrame(data, columns=['Cluster', 'Client'])\n",
    "    sns.scatterplot(x='Cluster', y='Client', data=df, hue='Cluster', palette='viridis', s=100)\n",
    "    \n",
    "    plt.xlabel('Cluster')\n",
    "    plt.ylabel('Clients')\n",
    "    plt.title('Cluster Visualization')\n",
    "    plt.legend(title='Cluster', bbox_to_anchor=(1, 1))\n",
    "    plt.show()\n",
    "\n",
    "# Example usage:\n",
    "json_data = {\"1\": [1, 2, 4, 5, 6, 7, 8, 9, 10], \"2\":[ 3,11,12]}\n",
    "visualize_clusters(json_data)\n"
   ]
  },
  {
   "cell_type": "code",
   "execution_count": 13,
   "metadata": {},
   "outputs": [
    {
     "data": {
      "image/png": "[encoded data removed]",
      "text/plain": [
       "<Figure size 432x288 with 1 Axes>"
      ]
     },
     "metadata": {
      "needs_background": "light"
     },
     "output_type": "display_data"
    }
   ],
   "source": [
    "import seaborn as sns\n",
    "import pandas as pd\n",
    "import matplotlib.pyplot as plt\n",
    "import os\n",
    "import json\n",
    "\n",
    "def visualize_clusters_over_time(json_files):\n",
    "    data = []\n",
    "\n",
    "    for time_point, json_file in enumerate(json_files, start=1):\n",
    "        with open(json_file, 'r') as f:\n",
    "            json_data = json.load(f)\n",
    "        \n",
    "        for cluster, clients in json_data.items():\n",
    "            data.extend([(time_point, int(cluster), client) for client in clients])\n",
    "\n",
    "    df = pd.DataFrame(data, columns=['Time', 'Cluster', 'Client'])\n",
    "    sns.scatterplot(x='Time', y='Client', data=df, hue='Cluster', palette='viridis', s=100, style='Cluster', markers=True, legend='full')\n",
    "    \n",
    "    plt.xlabel('Communication Rounds')\n",
    "    plt.ylabel('Clients')\n",
    "    plt.title('Cluster Visualization Over Time')\n",
    "    plt.legend(title='Cluster', bbox_to_anchor=(1, 1))\n",
    "    plt.show()\n",
    "\n",
    "# Example usage with multiple JSON files:\n",
    "json_files = [\"C:\\Adarsh work\\Dissonance\\Results\\Clusters\\current_cluster_round1.json\", \"C:\\Adarsh work\\Dissonance\\Results\\Clusters\\current_cluster_round2.json\", \"C:\\Adarsh work\\Dissonance\\Results\\Clusters\\current_cluster_round3.json\"]\n",
    "visualize_clusters_over_time(json_files)\n"
   ]
  },
  {
   "cell_type": "code",
   "execution_count": 35,
   "metadata": {},
   "outputs": [],
   "source": [
    "import sys\n",
    "sys.path.append('../')\n",
    "\n",
    "from Scripts.Custom_Scripts.constants import BASE_PATH\n",
    "\n",
    "from keras.models import load_model\n",
    "import numpy as np\n",
    "from sklearn.decomposition import PCA\n",
    "from sklearn.cluster import KMeans\n",
    "from sklearn.metrics import silhouette_score\n",
    "from tqdm import tqdm\n",
    "import time\n",
    "\n",
    "def create_cohorts(NUM_COHORTS, input_list):\n",
    "    \"\"\"\n",
    "    Create cohorts from the input list by dividing it into equal-sized groups.\n",
    "\n",
    "    Parameters:\n",
    "    - NUM_COHORTS (int): Number of cohorts to create.\n",
    "    - input_list (list): List of integers to be divided into cohorts.\n",
    "\n",
    "    Returns:\n",
    "    - dict: Dictionary representing cohorts with cohort number as keys and list of\n",
    "            integers as values.\n",
    "\n",
    "    Raises:\n",
    "    - ValueError: If input validation fails (e.g., NUM_COHORTS is not a positive integer,\n",
    "                  input is not a list, or input list contains non-integer elements).\n",
    "    \"\"\"\n",
    "\n",
    "    if not isinstance(NUM_COHORTS, int) or NUM_COHORTS <= 0:\n",
    "        raise ValueError(\"NUM_COHORTS must be a positive integer\")\n",
    "\n",
    "    if not isinstance(input_list, list):\n",
    "        raise ValueError(\"Input must be a list\")\n",
    "\n",
    "    if not all(isinstance(x, int) for x in input_list):\n",
    "        raise ValueError(\"All elements in the input list must be integers\")\n",
    "\n",
    "    # if len(input_list) % NUM_COHORTS != 0:\n",
    "    #     raise ValueError(\"Length of input list must be divisible by NUM_COHORTS\")\n",
    "\n",
    "    cohort_size = len(input_list) // NUM_COHORTS\n",
    "    cohorts = {}\n",
    "\n",
    "    for i in range(NUM_COHORTS):\n",
    "        start_idx = i * cohort_size\n",
    "        end_idx = start_idx + cohort_size\n",
    "        cohort_values = [j+1 for j, x in enumerate(input_list) if x == i]\n",
    "        cohorts[i + 1] = cohort_values\n",
    "\n",
    "    return cohorts\n",
    "\n",
    "def get_weights(loaded_model):\n",
    "\n",
    "    \"\"\"\n",
    "    Get the flattened weights of each layer from a loaded Keras model.\n",
    "\n",
    "    Parameters:\n",
    "    - loaded_model: Keras model object.\n",
    "\n",
    "    Returns:\n",
    "    - np.ndarray: Flattened weights of all layers concatenated.\n",
    "    \"\"\"\n",
    "\n",
    "    # Get the weights of each layer\n",
    "    model_weights = []\n",
    "    for layer in loaded_model.layers:\n",
    "        layer_weights = layer.get_weights()\n",
    "        model_weights.extend([w.flatten() for w in layer_weights])\n",
    "\n",
    "    # Concatenate all flattened weights\n",
    "    model_weights_flat = np.concatenate(model_weights)\n",
    "    return model_weights_flat\n",
    "\n",
    "def get_cohorts(NUM_CLIENTS, drifted_clients = None):\n",
    "\n",
    "    \"\"\"\n",
    "    Get cohorts of clients based on the weights of their loaded Keras models.\n",
    "\n",
    "    Parameters:\n",
    "    - NUM_CLIENTS (int): Number of clients participating in the federated learning.\n",
    "\n",
    "    Returns:\n",
    "    - dict: Dictionary representing cohorts with cohort number as keys and list of\n",
    "            client IDs as values.\n",
    "\n",
    "    Raises:\n",
    "    - FileNotFoundError: If the model file is not found at the specified path.\n",
    "    - OSError: If an operating system error occurs during model loading.\n",
    "    \"\"\"\n",
    "\n",
    "    # Get Load model from each client and get their weights.\n",
    "    weights_list = []\n",
    "    if drifted_clients is None:\n",
    "        for i in tqdm(range(1, NUM_CLIENTS+1)):\n",
    "            model_path = BASE_PATH + f\"Results\\client{i}\\\\Models\\\\base_model.h5\"\n",
    "            while True:\n",
    "                try:\n",
    "                    model = load_model(model_path)\n",
    "                    weights = get_weights(model)\n",
    "                    weights_list.append(weights)\n",
    "                    break  # If loading is successful, exit the loop\n",
    "                except (FileNotFoundError, OSError) as e:\n",
    "                    print(f\"Error loading model at {model_path}: {e}. Waiting and retrying...\")\n",
    "                    time.sleep(10)  # Increased sleep duration to 10 seconds\n",
    "    else:\n",
    "        for i in tqdm(range(1, NUM_CLIENTS+1)):\n",
    "            if i in drifted_clients:\n",
    "                model_path = BASE_PATH + f\"Results\\client{i}\\\\Models\\\\client{i}_retrained_model.h5\"\n",
    "            else:\n",
    "                model_path = BASE_PATH + f\"Results\\client{i}\\\\Models\\\\base_model.h5\"\n",
    "            while True:\n",
    "                try:\n",
    "                    model = load_model(model_path)\n",
    "                    weights = get_weights(model)\n",
    "                    weights_list.append(weights)\n",
    "                    break  # If loading is successful, exit the loop\n",
    "                except (FileNotFoundError, OSError) as e:\n",
    "                    print(f\"Error loading model at {model_path}: {e}. Waiting and retrying...\")\n",
    "                    time.sleep(10)  # Increased sleep duration to 10 seconds\n",
    "\n",
    "    weights = np.array(weights_list)\n",
    "    weights = np.array(weights_list)\n",
    "\n",
    "    # PCA transformation\n",
    "    pc = PCA(n_components=0.99, svd_solver='full')\n",
    "    W_transformed = pc.fit_transform(weights)\n",
    "\n",
    "    # Find optimal NUM_COHORTS using silhouette score\n",
    "    best_score = -1\n",
    "    best_num_cohorts = -1\n",
    "\n",
    "    for num_cohorts in range(2, min(11, len(W_transformed))):  # Adjusted the range\n",
    "        kmeans = KMeans(n_clusters=num_cohorts, init='k-means++', max_iter=300)\n",
    "        kmeans.fit(W_transformed)\n",
    "        labels = kmeans.labels_\n",
    "        score = silhouette_score(W_transformed, labels)\n",
    "        print(f'Cohort: {num_cohorts}: Silhouette_score: {score}')\n",
    "        if score > best_score:\n",
    "            best_score = score\n",
    "            best_num_cohorts = num_cohorts\n",
    "\n",
    "    # Use the best NUM_COHORTS\n",
    "    kmeans = KMeans(n_clusters=best_num_cohorts, init='k-means++')\n",
    "    kmeans.fit(W_transformed)\n",
    "    cohorts = kmeans.labels_.tolist()  # Convert to list\n",
    "    print(f'Best NUM_COHORTS: {best_num_cohorts}, Cohorts: {cohorts}')\n",
    "    cohorts = create_cohorts(best_num_cohorts, cohorts)\n",
    "    return cohorts"
   ]
  },
  {
   "cell_type": "code",
   "execution_count": 36,
   "metadata": {},
   "outputs": [
    {
     "name": "stderr",
     "output_type": "stream",
     "text": [
      "100%|██████████| 10/10 [00:01<00:00,  5.69it/s]\n"
     ]
    },
    {
     "name": "stdout",
     "output_type": "stream",
     "text": [
      "Cohort: 2: Silhouette_score: 0.008145253174006939\n",
      "Cohort: 3: Silhouette_score: 0.0036308385897427797\n",
      "Cohort: 4: Silhouette_score: 0.004226010292768478\n",
      "Cohort: 5: Silhouette_score: 0.00578697957098484\n",
      "Cohort: 6: Silhouette_score: 0.006475445814430714\n",
      "Cohort: 7: Silhouette_score: 0.005246030632406473\n",
      "Cohort: 8: Silhouette_score: 0.0039091105572879314\n",
      "Cohort: 9: Silhouette_score: 0.002022908767685294\n",
      "Best NUM_COHORTS: 2, Cohorts: [1, 0, 0, 0, 1, 0, 1, 0, 1, 0]\n",
      "{1: [2, 3, 4, 6, 8, 10], 2: [1, 5, 7, 9]}\n"
     ]
    }
   ],
   "source": [
    "cohorts = get_cohorts(10)\n",
    "print(cohorts)"
   ]
  },
  {
   "cell_type": "code",
   "execution_count": 12,
   "metadata": {},
   "outputs": [
    {
     "name": "stdout",
     "output_type": "stream",
     "text": [
      "{1: [1, 2, 3, 4, 5], 2: [6, 7, 8, 9, 10]}\n"
     ]
    }
   ],
   "source": []
  },
  {
   "cell_type": "code",
   "execution_count": 32,
   "metadata": {},
   "outputs": [
    {
     "name": "stdout",
     "output_type": "stream",
     "text": [
      "[0, 2, 3, 5]\n"
     ]
    }
   ],
   "source": [
    "def get_indices(data_list, value):\n",
    "  \"\"\"\n",
    "  Get the indices of a given value in a list.\n",
    "\n",
    "  Args:\n",
    "      data_list: The list to search.\n",
    "      value: The value to search for.\n",
    "\n",
    "  Returns:\n",
    "      A list of indices where the value is found in the data_list.\n",
    "  \"\"\"\n",
    "\n",
    "  return [i for i, x in enumerate(data_list) if x == value]\n",
    "\n",
    "# Example usage\n",
    "data_list = [0, 1, 0, 0, 1, 0]\n",
    "value = 0\n",
    "indices = get_indices(data_list, value)\n",
    "print(indices)\n"
   ]
  },
  {
   "cell_type": "code",
   "execution_count": 37,
   "metadata": {},
   "outputs": [
    {
     "data": {
      "text/plain": [
       "KstestResult(statistic=0.023, pvalue=0.9542189106778983, statistic_location=0.8972598220477659, statistic_sign=-1)"
      ]
     },
     "execution_count": 37,
     "metadata": {},
     "output_type": "execute_result"
    }
   ],
   "source": [
    "from scipy.stats import ks_2samp\n",
    "import numpy as np \n",
    "np.random.seed(12345678)\n",
    "x = np.random.normal(0, 1, 1000)\n",
    "y = np.random.normal(0, 1, 1000)\n",
    "z = np.random.normal(1.1, 0.9, 1000)\n",
    "\n",
    "ks_2samp(x, y)"
   ]
  },
  {
   "cell_type": "code",
   "execution_count": 38,
   "metadata": {},
   "outputs": [
    {
     "data": {
      "text/plain": [
       "KstestResult(statistic=0.418, pvalue=1.2040448267583641e-78, statistic_location=0.38777076209579736, statistic_sign=1)"
      ]
     },
     "execution_count": 38,
     "metadata": {},
     "output_type": "execute_result"
    }
   ],
   "source": [
    "ks_2samp(x,z)"
   ]
  },
  {
   "cell_type": "code",
   "execution_count": 44,
   "metadata": {},
   "outputs": [
    {
     "name": "stdout",
     "output_type": "stream",
     "text": [
      "Kolmogorov-Smirnov statistic (D) between Data 1 and Data 2: 0.5200\n",
      "p-value: 0.0000\n",
      "Kolmogorov-Smirnov statistic (D) between Data 1 and Data 3: 0.2100\n",
      "p-value: 0.0241\n"
     ]
    },
    {
     "data": {
      "image/png": "[encoded data removed]",
      "text/plain": [
       "<Figure size 432x288 with 1 Axes>"
      ]
     },
     "metadata": {
      "needs_background": "light"
     },
     "output_type": "display_data"
    }
   ],
   "source": [
    "import numpy as np\n",
    "from scipy import stats\n",
    "import matplotlib.pyplot as plt\n",
    "\n",
    "\n",
    "def ks_2samp_test_and_plot(data1, data2, data3, title):\n",
    "  \"\"\"\n",
    "  This function performs a two-sample Kolmogorov-Smirnov test between two datasets and plots the results.\n",
    "\n",
    "  Args:\n",
    "      data1 (list): The first dataset (reference).\n",
    "      data2 (list): The second dataset.\n",
    "      data3 (list): The third dataset.\n",
    "      title (str): The title of the plot.\n",
    "\n",
    "  Returns:\n",
    "      tuple: A tuple containing the Kolmogorov-Smirnov statistic (D) for each comparison,\n",
    "             corresponding p-values, and the figure object.\n",
    "  \"\"\"\n",
    "\n",
    "  # Perform the two-sample Kolmogorov-Smirnov tests\n",
    "  statistic1, pvalue1 = stats.ks_2samp(data1, data2)\n",
    "  statistic2, pvalue2 = stats.ks_2samp(data1, data3)\n",
    "\n",
    "  # Create the plot\n",
    "  fig, ax = plt.subplots()\n",
    "  counts1, bins1, patches1 = ax.hist(data1, density=True, label='Reference')\n",
    "  counts2, bins2, patches2 = ax.hist(data2, density=True, label='Data 2')\n",
    "  counts3, bins3, patches3 = ax.hist(data3, density=True, label='Data 3')\n",
    "  plt.setp(patches1, alpha=0.7, color='b')\n",
    "  plt.setp(patches2, alpha=0.7, color='g')\n",
    "  plt.setp(patches3, alpha=0.7, color='r')\n",
    "  plt.xlabel('Value')\n",
    "  plt.ylabel('Density')\n",
    "  plt.title(title)\n",
    "  plt.legend()\n",
    "\n",
    "  # Print the test results\n",
    "  print(f\"Kolmogorov-Smirnov statistic (D) between Data 1 and Data 2: {statistic1:.4f}\")\n",
    "  print(f\"p-value: {pvalue1:.4f}\")\n",
    "  print(f\"Kolmogorov-Smirnov statistic (D) between Data 1 and Data 3: {statistic2:.4f}\")\n",
    "  print(f\"p-value: {pvalue2:.4f}\")\n",
    "\n",
    "  return statistic1, pvalue1, statistic2, pvalue2, fig\n",
    "\n",
    "\n",
    "# Example usage\n",
    "data1 = np.random.normal(loc=5, scale=2, size=100)\n",
    "data2 = np.random.normal(loc=7, scale=1.5, size=100)\n",
    "data3 = np.random.normal(loc=5, scale=1, size=100)\n",
    "\n",
    "statistic1, pvalue1, statistic2, pvalue2, fig = ks_2samp_test_and_plot(data1, data2, data3, \"Distribution Comparison\")\n",
    "plt.show()\n"
   ]
  },
  {
   "cell_type": "code",
   "execution_count": 14,
   "metadata": {},
   "outputs": [
    {
     "name": "stdout",
     "output_type": "stream",
     "text": [
      "DATA 1 - Kolmogorov-Smirnov statistic (D):0.6400 ; p-value: 0.0000 ; statistic-location: 5.748829935303144 ; statistic-sign: 1\n",
      "DATA 2 - Kolmogorov-Smirnov statistic (D):0.1400 ; p-value: 0.2819 ; statistic-location: 4.305421540467155 ; statistic-sign: 1\n"
     ]
    },
    {
     "data": {
      "image/png": "[encoded data removed]",
      "text/plain": [
       "<Figure size 432x288 with 2 Axes>"
      ]
     },
     "metadata": {
      "needs_background": "light"
     },
     "output_type": "display_data"
    }
   ],
   "source": [
    "import numpy as np\n",
    "from scipy import stats\n",
    "import matplotlib.pyplot as plt\n",
    "\n",
    "\n",
    "def ks_2samp_test_and_plot(data_ref, data1, data2, title):\n",
    "  \"\"\"\n",
    "  This function performs two-sample Kolmogorov-Smirnov tests between a reference dataset and two other datasets, and plots the results for visual comparison.\n",
    "\n",
    "  Args:\n",
    "      data_ref (list): The reference dataset.\n",
    "      data1 (list): The first dataset to compare with the reference.\n",
    "      data2 (list): The second dataset to compare with the reference.\n",
    "      title (str): The title of the plot.\n",
    "\n",
    "  Returns:\n",
    "      tuple: A tuple containing three results, each a tuple with the Kolmogorov-Smirnov statistic (D) and p-value for the corresponding comparison.\n",
    "  \"\"\"\n",
    "\n",
    "  # Sort data for CDF calculation\n",
    "  data_ref = np.sort(data_ref)\n",
    "  data1 = np.sort(data1)\n",
    "  data2 = np.sort(data2)\n",
    "\n",
    "  # Calculate CDFs\n",
    "  cdf_ref = np.cumsum(np.ones_like(data_ref) / len(data_ref))\n",
    "  cdf1 = np.cumsum(np.ones_like(data1) / len(data1))\n",
    "  cdf2 = np.cumsum(np.ones_like(data2) / len(data2))\n",
    "\n",
    "  # Create the plot\n",
    "  fig, (ax1, ax2) = plt.subplots(2, 1, sharex=True)\n",
    "  ax1.hist(data_ref, density=True, label='Reference', alpha=0.7, color='b', linestyle='--')\n",
    "  ax1.hist(data1, density=True, label='Data 1', alpha=0.7, color='g')\n",
    "  ax1.hist(data2, density=True, label='Data 2', alpha=0.7, color='r')\n",
    "  ax1.set_xlabel('Value')\n",
    "  ax1.set_ylabel('Density')\n",
    "  ax1.legend()\n",
    "\n",
    "  ax2.plot(data_ref, cdf_ref, label='Reference', color='b', linestyle='--')\n",
    "  ax2.plot(data1, cdf1, label='Data 1', color='g')\n",
    "  ax2.plot(data2, cdf2, label='Data 2', color='r')\n",
    "  ax2.set_xlabel('Value')\n",
    "  ax2.set_ylabel('CDF')\n",
    "  ax2.legend()\n",
    "  plt.suptitle(title)\n",
    "\n",
    "  # Perform the two-sample Kolmogorov-Smirnov tests\n",
    "  result1 = stats.ks_2samp(data_ref, data1)\n",
    "  result2 = stats.ks_2samp(data_ref, data2)\n",
    "\n",
    "  # Print the test results\n",
    "  print(f\"DATA 1 - Kolmogorov-Smirnov statistic (D):{result1.statistic:.4f} ; p-value: {result1.pvalue:.4f} ; statistic-location: {result1.statistic_location} ; statistic-sign: {result1.statistic_sign}\")\n",
    "  print(f\"DATA 2 - Kolmogorov-Smirnov statistic (D):{result2.statistic:.4f} ; p-value: {result2.pvalue:.4f} ; statistic-location: {result2.statistic_location} ; statistic-sign: {result2.statistic_sign}\")\n",
    "\n",
    "  return result1, result2\n",
    "\n",
    "\n",
    "# Example usage\n",
    "data_ref = np.random.normal(loc=5, scale=1, size=100)\n",
    "data1 = np.random.normal(loc=7, scale=1.5, size=100)\n",
    "data2 = np.random.normal(loc=5, scale=0.5, size=100)\n",
    "\n",
    "results1, results2 = ks_2samp_test_and_plot(data_ref, data1, data2, \"Distribution Comparison\")\n",
    "plt.show()\n"
   ]
  },
  {
   "cell_type": "code",
   "execution_count": 7,
   "metadata": {},
   "outputs": [
    {
     "name": "stderr",
     "output_type": "stream",
     "text": [
      "C:\\Users\\inadnl\\AppData\\Local\\Temp\\ipykernel_14056\\1272573574.py:6: RuntimeWarning: ks_2samp: Exact calculation unsuccessful. Switching to method=asymp.\n",
      "  result = ks_2samp(data1, data2)\n"
     ]
    }
   ],
   "source": [
    "from scipy.stats import ks_2samp\n",
    "\n",
    "data1 = [1, 2, 3, 4, 5]\n",
    "data2 = [2, 3, 4, 5, 6]\n",
    "\n",
    "result = ks_2samp(data1, data2)\n",
    "\n",
    "statistic = result.statistic\n",
    "pvalue = result.pvalue\n",
    "statistic_location = result.statistic_location\n",
    "statistic_sign = result.statistic_sign\n"
   ]
  },
  {
   "cell_type": "code",
   "execution_count": 7,
   "metadata": {},
   "outputs": [
    {
     "name": "stdout",
     "output_type": "stream",
     "text": [
      "communicaiton round: 3, type: <class 'int'>\n",
      "default_client_id round: ['1', '2', '3', '4', '5'], type: <class 'list'>\n",
      "default_client_id round: [1, 2, 3, 4, 5], type: <class 'list'>\n"
     ]
    }
   ],
   "source": [
    "import re\n",
    "import json\n",
    "\n",
    "file_path = r\"C:\\Users\\inadnl\\OneDrive - ABB\\Adarsh work\\Dissonance\\Results\\Drift\\Json\\drift_entry.json\"\n",
    "\n",
    "def find_clients(string):\n",
    "    return re.findall(r'\\d+', string)\n",
    "\n",
    "with open(file_path, 'r') as file:\n",
    "    json_data = json.load(file)\n",
    "    \n",
    "communication_round = json_data.get('communication_round')\n",
    "print(f'communicaiton round: {communication_round}, type: {type(communication_round)}')\n",
    "default_client_id = find_clients(json_data.get('client_id'))\n",
    "print(f'default_client_id round: {default_client_id}, type: {type(default_client_id)}')\n",
    "default_client_id = list(map(int, default_client_id))\n",
    "print(f'default_client_id round: {default_client_id}, type: {type(default_client_id)}')\n",
    "drift_type = json_data.get('drift_type')"
   ]
  },
  {
   "cell_type": "code",
   "execution_count": 13,
   "metadata": {},
   "outputs": [
    {
     "data": {
      "image/png": "[encoded data removed]",
      "text/plain": [
       "<Figure size 864x576 with 1 Axes>"
      ]
     },
     "metadata": {
      "needs_background": "light"
     },
     "output_type": "display_data"
    },
    {
     "data": {
      "image/png": "[encoded data removed]",
      "text/plain": [
       "<Figure size 864x576 with 1 Axes>"
      ]
     },
     "metadata": {
      "needs_background": "light"
     },
     "output_type": "display_data"
    },
    {
     "data": {
      "image/png": "[encoded data removed]",
      "text/plain": [
       "<Figure size 864x576 with 1 Axes>"
      ]
     },
     "metadata": {
      "needs_background": "light"
     },
     "output_type": "display_data"
    }
   ],
   "source": [
    "import os\n",
    "import json\n",
    "import matplotlib.pyplot as plt\n",
    "\n",
    "BASE_PATH = r\"C:\\Users\\inadnl\\OneDrive - ABB\\Adarsh work\\Dissonance\\Results\"\n",
    "NUM_CLIENTS = 10\n",
    "\n",
    "def plot_accuracy_curve(file_name):\n",
    "    \"\"\"\n",
    "    Plot the average accuracy curve for all clients' federated learning.\n",
    "\n",
    "    Parameters:\n",
    "    - file_name (str): Name of the JSON file containing accuracy data.\n",
    "\n",
    "    Returns:\n",
    "    None\n",
    "    \"\"\"\n",
    "    \n",
    "    # Initialize lists to store data\n",
    "    avg_acc = []\n",
    "    comm_rounds = []\n",
    "\n",
    "    # Loop through each client to collect accuracy data\n",
    "    for client_num in range(1, NUM_CLIENTS + 1):\n",
    "        # Construct the full file path\n",
    "        file_path = os.path.join(BASE_PATH, f'client{client_num}\\\\Json', file_name)\n",
    "\n",
    "        try:\n",
    "            # Check if the file exists\n",
    "            if os.path.exists(file_path):\n",
    "                # Read data from the JSON file\n",
    "                with open(file_path, 'r') as file:\n",
    "                    data_lines = file.readlines()\n",
    "\n",
    "                # Extract communication rounds and corresponding accuracy\n",
    "                client_acc = []\n",
    "\n",
    "                for line in data_lines:\n",
    "                    entry = json.loads(line)\n",
    "                    client_acc.append(entry['accuracy'])\n",
    "\n",
    "                # Add client accuracy to the list\n",
    "                avg_acc.append(sum(client_acc) / len(client_acc))\n",
    "                comm_rounds.append(entry['comm_round'])\n",
    "            else:\n",
    "                # Display a message if the file is not found\n",
    "                #st.write(f\"Unable to find {file_name} for client {client_num}.\")\n",
    "                print(f\"Unable to find {file_name} for client {client_num}.\")\n",
    "        except Exception as e:\n",
    "            print(f\"Error reading {file_name} for client {client_num}: {e}\")\n",
    "            #st.write(f\"Error reading {file_name} for client {client_num}: {e}\")\n",
    "\n",
    "    # Set colors for each algorithm\n",
    "    colors = ['b', 'g', 'r']\n",
    "    labels = ['CDAFedAvg', 'FedDrift', 'Dissonance']\n",
    "\n",
    "    # Create a plot\n",
    "    plt.figure(figsize=(12, 8))\n",
    "    for i, file_name in enumerate([file_name]):\n",
    "        plt.plot(comm_rounds, avg_acc, label=labels[i], color=colors[i], marker='o', linestyle='-', alpha=0.7)\n",
    "\n",
    "    # Set plot title and labels\n",
    "    plt.title('Average Accuracy with FL for all Clients')\n",
    "    plt.xlabel('Communication Round')\n",
    "    plt.ylabel('Average Accuracy')\n",
    "    plt.legend()\n",
    "\n",
    "\n",
    "# File names for each algorithm\n",
    "file_names = ['CDAFedAvg_results.json', 'FedDrift_results.json', 'Dissonance_results.json']\n",
    "\n",
    "for file_name in file_names:\n",
    "    plot_accuracy_curve(file_name)\n"
   ]
  },
  {
   "cell_type": "code",
   "execution_count": 22,
   "metadata": {},
   "outputs": [
    {
     "data": {
      "image/png": "[encoded data removed]",
      "text/plain": [
       "<Figure size 864x576 with 1 Axes>"
      ]
     },
     "metadata": {
      "needs_background": "light"
     },
     "output_type": "display_data"
    }
   ],
   "source": [
    "import os\n",
    "import json\n",
    "import matplotlib.pyplot as plt\n",
    "import numpy as np\n",
    "\n",
    "BASE_PATH = r\"C:\\Users\\inadnl\\OneDrive - ABB\\Adarsh work\\Dissonance\"\n",
    "NUM_CLIENTS = 10\n",
    "\n",
    "def plot_accuracy_curve(algorithm_names, file_names):\n",
    "    \"\"\"\n",
    "    Plot the average accuracy curve for all clients across different algorithms.\n",
    "\n",
    "    Parameters:\n",
    "    - algorithm_names (list): List of algorithm names.\n",
    "    - file_names (list): List of file names for the JSON files.\n",
    "\n",
    "    Returns:\n",
    "    None\n",
    "    \"\"\"\n",
    "    plt.figure(figsize=(12, 8))\n",
    "\n",
    "    max_comm_round = 0\n",
    "    for algorithm_name, file_name in zip(algorithm_names, file_names):\n",
    "        avg_accuracies = np.zeros(10)  # Assuming max 10 communication rounds\n",
    "        counts = np.zeros(10)\n",
    "\n",
    "        for client_num in range(1, NUM_CLIENTS + 1):\n",
    "            file_path = os.path.join(BASE_PATH, f'Results\\client{client_num}\\\\Json', file_name)\n",
    "\n",
    "            if os.path.exists(file_path):\n",
    "                with open(file_path, 'r') as file:\n",
    "                    data_lines = file.readlines()\n",
    "\n",
    "                for line in data_lines:\n",
    "                    entry = json.loads(line)\n",
    "                    comm_round = entry['comm_round']\n",
    "                    accuracy = entry['accuracy']\n",
    "\n",
    "                    if comm_round > max_comm_round:\n",
    "                        max_comm_round = comm_round\n",
    "\n",
    "                    avg_accuracies[comm_round - 1] += accuracy\n",
    "                    counts[comm_round - 1] += 1\n",
    "\n",
    "        avg_accuracies = np.divide(avg_accuracies, NUM_CLIENTS, where=counts != 0)  # Normalize by the number of clients\n",
    "\n",
    "        # Create a plot\n",
    "        plt.plot(np.arange(1, len(avg_accuracies) + 1), avg_accuracies, label=algorithm_name, marker='o', linestyle='-')\n",
    "\n",
    "    # Set plot title and labels\n",
    "    plt.title('Average Accuracy across clients when induced drift')\n",
    "    plt.xlabel('Communication Round')\n",
    "    plt.ylabel('Average Accuracy')\n",
    "    plt.grid(True)\n",
    "    plt.xticks(np.arange(1, max_comm_round + 1))\n",
    "    plt.legend()\n",
    "    \n",
    "    # Display the plot\n",
    "    plt.show()\n",
    "\n",
    "# Define the algorithm names and file names \n",
    "algorithm_names = ['CDAFedAvg', 'FedDrift', 'Dissonance']\n",
    "file_names = ['CDAFedAvg_results.json', 'FedDrift_results.json', 'Dissonance_results.json']\n",
    "\n",
    "# Plot the accuracy curves\n",
    "plot_accuracy_curve(algorithm_names, file_names)\n"
   ]
  },
  {
   "cell_type": "code",
   "execution_count": 21,
   "metadata": {},
   "outputs": [
    {
     "data": {
      "image/png": "[encoded data removed]",
      "text/plain": [
       "<Figure size 864x576 with 1 Axes>"
      ]
     },
     "metadata": {
      "needs_background": "light"
     },
     "output_type": "display_data"
    }
   ],
   "source": [
    "import os\n",
    "import json\n",
    "import matplotlib.pyplot as plt\n",
    "import numpy as np\n",
    "\n",
    "BASE_PATH = r\"C:\\Users\\inadnl\\OneDrive - ABB\\Adarsh work\\Dissonance\"\n",
    "NUM_CLIENTS = 10\n",
    "\n",
    "def plot_metric_curve(metric_name, algorithm_names, file_names):\n",
    "    \"\"\"\n",
    "    Plot the average metric curve (loss or accuracy) for all clients across different algorithms.\n",
    "\n",
    "    Parameters:\n",
    "    - metric_name (str): Name of the metric to plot ('loss' or 'accuracy').\n",
    "    - algorithm_names (list): List of algorithm names.\n",
    "    - file_names (list): List of file names for the JSON files.\n",
    "\n",
    "    Returns:\n",
    "    None\n",
    "    \"\"\"\n",
    "    plt.figure(figsize=(12, 8))\n",
    "\n",
    "    max_comm_round = 0\n",
    "    for algorithm_name, file_name in zip(algorithm_names, file_names):\n",
    "        avg_metrics = np.zeros(10)  # Assuming max 10 communication rounds\n",
    "        counts = np.zeros(10)\n",
    "\n",
    "        for client_num in range(1, NUM_CLIENTS + 1):\n",
    "            file_path = os.path.join(BASE_PATH, f'Results\\\\client{client_num}\\\\Json', file_name)\n",
    "\n",
    "            if os.path.exists(file_path):\n",
    "                with open(file_path, 'r') as file:\n",
    "                    data_lines = file.readlines()\n",
    "\n",
    "                for line in data_lines:\n",
    "                    entry = json.loads(line)\n",
    "                    comm_round = entry['comm_round']\n",
    "                    metric_value = entry[metric_name]\n",
    "\n",
    "                    if comm_round > max_comm_round:\n",
    "                        max_comm_round = comm_round\n",
    "\n",
    "                    avg_metrics[comm_round - 1] += metric_value\n",
    "                    counts[comm_round - 1] += 1\n",
    "\n",
    "        avg_metrics = np.divide(avg_metrics, NUM_CLIENTS, where=counts != 0)  # Normalize by the number of clients\n",
    "\n",
    "        # Create a plot\n",
    "        plt.plot(np.arange(1, len(avg_metrics) + 1), avg_metrics, label=algorithm_name, marker='o', linestyle='-')\n",
    "\n",
    "    # Set plot title and labels\n",
    "    plt.title(f'Average {metric_name.capitalize()} across clients when induced drift')\n",
    "    plt.xlabel('Communication Round')\n",
    "    plt.ylabel(f'Average {metric_name.capitalize()}')\n",
    "    plt.grid(True)\n",
    "    plt.xticks(np.arange(1, max_comm_round + 1))\n",
    "    plt.legend()\n",
    "    \n",
    "    # Display the plot\n",
    "    plt.show()\n",
    "\n",
    "# Define the algorithm names and file names\n",
    "algorithm_names = ['CDAFedAvg', 'FedDrift', 'Dissonance']\n",
    "file_names = ['CDAFedAvg_results.json', 'FedDrift_results.json', 'Dissonance_results.json']\n",
    "\n",
    "# Plot the loss curves\n",
    "plot_metric_curve('loss', algorithm_names, file_names)\n"
   ]
  },
  {
   "cell_type": "code",
   "execution_count": 4,
   "metadata": {},
   "outputs": [
    {
     "name": "stdout",
     "output_type": "stream",
     "text": [
      "(10, 10)\n"
     ]
    },
    {
     "data": {
      "image/png": "[encoded data removed]",
      "text/plain": [
       "<Figure size 432x288 with 2 Axes>"
      ]
     },
     "metadata": {
      "needs_background": "light"
     },
     "output_type": "display_data"
    }
   ],
   "source": [
    "import numpy as np\n",
    "import matplotlib.pyplot as plt\n",
    "\n",
    "# Load the .npy file\n",
    "data = np.load(r'C:\\Users\\inadnl\\OneDrive - ABB\\Adarsh work\\Dissonance\\Results\\DistanceMetric\\communication_round3_distancemetric.npy')\n",
    "\n",
    "print(data.shape)\n",
    "# Display the data\n",
    "plt.imshow(data, cmap='gray')  # Assuming the data is an image, cmap can be changed accordingly\n",
    "plt.colorbar()\n",
    "plt.title('Loaded .npy File')\n",
    "plt.show()\n"
   ]
  },
  {
   "cell_type": "code",
   "execution_count": 6,
   "metadata": {},
   "outputs": [
    {
     "name": "stdout",
     "output_type": "stream",
     "text": [
      "0.0\n",
      "0.0\n",
      "0.00042005814611911774\n",
      "0.0\n",
      "12.173060992732644\n",
      "0.0\n",
      "0.0\n",
      "0.0\n",
      "0.0\n",
      "0.0\n",
      "0.010366218274612038\n",
      "0.0\n",
      "0.010786276420731156\n",
      "4.022559824079508e-05\n",
      "12.183427211007256\n",
      "0.0\n",
      "0.0\n",
      "0.0\n",
      "0.0\n",
      "0.0\n",
      "0.0\n",
      "0.0\n",
      "0.0\n",
      "0.0\n",
      "12.172640934586525\n",
      "0.0\n",
      "0.0\n",
      "0.0\n",
      "0.0\n",
      "0.0\n",
      "0.010325992676371243\n",
      "0.0\n",
      "0.01074605082249036\n",
      "0.0\n",
      "12.183386985409015\n",
      "0.0\n",
      "0.0\n",
      "0.0\n",
      "0.0\n",
      "0.0\n",
      "0.0\n",
      "0.0\n",
      "0.0\n",
      "0.0\n",
      "0.0\n",
      "0.0\n",
      "0.0\n",
      "0.0\n",
      "0.0\n",
      "0.0\n",
      "0.0\n",
      "0.0\n",
      "0.0\n",
      "0.0\n",
      "0.0\n",
      "0.0\n",
      "0.0\n",
      "0.0\n",
      "0.0\n",
      "0.0\n",
      "0.0\n",
      "0.0\n",
      "0.0\n",
      "0.0\n",
      "0.0\n",
      "0.0\n",
      "0.0\n",
      "0.0\n",
      "0.0\n",
      "0.0\n",
      "0.0\n",
      "0.0\n",
      "0.0\n",
      "0.0\n",
      "0.0\n",
      "0.0\n",
      "0.0\n",
      "0.0\n",
      "0.0\n",
      "0.0\n",
      "0.0\n",
      "0.0\n",
      "0.0\n",
      "0.0\n",
      "0.0\n",
      "0.0\n",
      "0.0\n",
      "0.0\n",
      "0.0\n",
      "0.0\n",
      "0.0\n",
      "0.0\n",
      "0.0\n",
      "0.0\n",
      "0.0\n",
      "0.0\n",
      "0.0\n",
      "0.0\n",
      "0.0\n",
      "0.0\n"
     ]
    }
   ],
   "source": [
    "for row in data:\n",
    "    for col in row:\n",
    "        print(col)"
   ]
  },
  {
   "cell_type": "code",
   "execution_count": null,
   "metadata": {},
   "outputs": [],
   "source": []
  }
 ],
 "metadata": {
  "kernelspec": {
   "display_name": "ABBprojects",
   "language": "python",
   "name": "python3"
  },
  "language_info": {
   "codemirror_mode": {
    "name": "ipython",
    "version": 3
   },
   "file_extension": ".py",
   "mimetype": "text/x-python",
   "name": "python",
   "nbconvert_exporter": "python",
   "pygments_lexer": "ipython3",
   "version": "3.9.12"
  }
 },
 "nbformat": 4,
 "nbformat_minor": 2
}
