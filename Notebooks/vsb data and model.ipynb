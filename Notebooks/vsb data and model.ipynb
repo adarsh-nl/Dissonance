{
 "cells": [
  {
   "cell_type": "code",
   "execution_count": 3,
   "metadata": {},
   "outputs": [],
   "source": [
    "import pandas as pd\n",
    "import numpy as np\n",
    "import tensorflow as tf"
   ]
  },
  {
   "cell_type": "code",
   "execution_count": 14,
   "metadata": {},
   "outputs": [
    {
     "name": "stdout",
     "output_type": "stream",
     "text": [
      "Number of unique labels in the dataset are [0 1]\n"
     ]
    }
   ],
   "source": [
    "meta_data = pd.read_csv(r\"C:\\Users\\inadnl\\OneDrive - ABB\\Adarsh work\\Dissonance\\Data\\vsb-data\\vsb-power-line-fault-detection\\metadata_train.csv\")\n",
    "meta_data.head()\n",
    "print(f'Number of unique labels in the dataset are {np.unique(meta_data[\"target\"])}')"
   ]
  },
  {
   "cell_type": "code",
   "execution_count": 10,
   "metadata": {},
   "outputs": [
    {
     "data": {
      "text/html": [
       "<div>\n",
       "<style scoped>\n",
       "    .dataframe tbody tr th:only-of-type {\n",
       "        vertical-align: middle;\n",
       "    }\n",
       "\n",
       "    .dataframe tbody tr th {\n",
       "        vertical-align: top;\n",
       "    }\n",
       "\n",
       "    .dataframe thead th {\n",
       "        text-align: right;\n",
       "    }\n",
       "</style>\n",
       "<table border=\"1\" class=\"dataframe\">\n",
       "  <thead>\n",
       "    <tr style=\"text-align: right;\">\n",
       "      <th></th>\n",
       "      <th>px</th>\n",
       "      <th>height</th>\n",
       "      <th>ratio_next</th>\n",
       "      <th>ratio_prev</th>\n",
       "      <th>small_dist_to_min</th>\n",
       "      <th>sawtooth_rmse</th>\n",
       "      <th>signal_id</th>\n",
       "      <th>phase_50hz</th>\n",
       "      <th>phase_aligned_x</th>\n",
       "      <th>Q</th>\n",
       "    </tr>\n",
       "  </thead>\n",
       "  <tbody>\n",
       "    <tr>\n",
       "      <th>0</th>\n",
       "      <td>24554.0</td>\n",
       "      <td>4.705156</td>\n",
       "      <td>0.272445</td>\n",
       "      <td>0.902694</td>\n",
       "      <td>-1.0</td>\n",
       "      <td>0.080285</td>\n",
       "      <td>0</td>\n",
       "      <td>0.565718</td>\n",
       "      <td>133.462535</td>\n",
       "      <td>1</td>\n",
       "    </tr>\n",
       "    <tr>\n",
       "      <th>1</th>\n",
       "      <td>26087.0</td>\n",
       "      <td>5.568916</td>\n",
       "      <td>0.254407</td>\n",
       "      <td>0.785581</td>\n",
       "      <td>-1.0</td>\n",
       "      <td>0.081591</td>\n",
       "      <td>0</td>\n",
       "      <td>0.565718</td>\n",
       "      <td>134.152385</td>\n",
       "      <td>1</td>\n",
       "    </tr>\n",
       "    <tr>\n",
       "      <th>2</th>\n",
       "      <td>31681.0</td>\n",
       "      <td>8.415760</td>\n",
       "      <td>0.068728</td>\n",
       "      <td>0.891094</td>\n",
       "      <td>-1.0</td>\n",
       "      <td>0.075479</td>\n",
       "      <td>0</td>\n",
       "      <td>0.565718</td>\n",
       "      <td>136.669685</td>\n",
       "      <td>1</td>\n",
       "    </tr>\n",
       "    <tr>\n",
       "      <th>3</th>\n",
       "      <td>36913.0</td>\n",
       "      <td>6.569330</td>\n",
       "      <td>0.667703</td>\n",
       "      <td>0.816569</td>\n",
       "      <td>-1.0</td>\n",
       "      <td>0.099316</td>\n",
       "      <td>0</td>\n",
       "      <td>0.565718</td>\n",
       "      <td>139.024085</td>\n",
       "      <td>1</td>\n",
       "    </tr>\n",
       "    <tr>\n",
       "      <th>4</th>\n",
       "      <td>46340.0</td>\n",
       "      <td>5.765833</td>\n",
       "      <td>0.898712</td>\n",
       "      <td>0.897689</td>\n",
       "      <td>1.0</td>\n",
       "      <td>0.100638</td>\n",
       "      <td>0</td>\n",
       "      <td>0.565718</td>\n",
       "      <td>143.266235</td>\n",
       "      <td>1</td>\n",
       "    </tr>\n",
       "  </tbody>\n",
       "</table>\n",
       "</div>"
      ],
      "text/plain": [
       "        px    height  ratio_next  ratio_prev  small_dist_to_min  \\\n",
       "0  24554.0  4.705156    0.272445    0.902694               -1.0   \n",
       "1  26087.0  5.568916    0.254407    0.785581               -1.0   \n",
       "2  31681.0  8.415760    0.068728    0.891094               -1.0   \n",
       "3  36913.0  6.569330    0.667703    0.816569               -1.0   \n",
       "4  46340.0  5.765833    0.898712    0.897689                1.0   \n",
       "\n",
       "   sawtooth_rmse  signal_id  phase_50hz  phase_aligned_x  Q  \n",
       "0       0.080285          0    0.565718       133.462535  1  \n",
       "1       0.081591          0    0.565718       134.152385  1  \n",
       "2       0.075479          0    0.565718       136.669685  1  \n",
       "3       0.099316          0    0.565718       139.024085  1  \n",
       "4       0.100638          0    0.565718       143.266235  1  "
      ]
     },
     "execution_count": 10,
     "metadata": {},
     "output_type": "execute_result"
    }
   ],
   "source": [
    "data = pd.read_pickle(r\"C:\\Users\\inadnl\\OneDrive - ABB\\Adarsh work\\Dissonance\\Data\\vsb-data\\vsb-power-line-fault-detection\\train_peaks.pkl\")\n",
    "data.head()"
   ]
  },
  {
   "cell_type": "code",
   "execution_count": 12,
   "metadata": {},
   "outputs": [
    {
     "name": "stdout",
     "output_type": "stream",
     "text": [
      "(1355697, 10)\n",
      "Number of unique labels in the dataset are [0 1 2 3]\n"
     ]
    }
   ],
   "source": [
    "print(data.shape)\n",
    "print(f'Number of unique labels in the dataset are {np.unique(data[\"Q\"])}')"
   ]
  },
  {
   "cell_type": "code",
   "execution_count": 8,
   "metadata": {},
   "outputs": [],
   "source": [
    "from sklearn.model_selection import train_test_split\n",
    "from sklearn.preprocessing import StandardScaler\n",
    "\n",
    "def preprocess_vsb(data):\n",
    "    # Separate features and target variable\n",
    "    X = data.drop('Q', axis=1)\n",
    "    y = data['Q']\n",
    "\n",
    "    # Split the data into train and test sets\n",
    "    X_train, X_test, y_train, y_test = train_test_split(X, y, test_size=0.2, random_state=42)\n",
    "\n",
    "    # Standardize the features\n",
    "    scaler = StandardScaler()\n",
    "    X_train_scaled = scaler.fit_transform(X_train)\n",
    "    X_test_scaled = scaler.transform(X_test)\n",
    "\n",
    "    return X_train_scaled, y_train, X_test_scaled, y_test\n"
   ]
  },
  {
   "cell_type": "code",
   "execution_count": null,
   "metadata": {},
   "outputs": [],
   "source": []
  },
  {
   "cell_type": "code",
   "execution_count": 7,
   "metadata": {},
   "outputs": [
    {
     "name": "stdout",
     "output_type": "stream",
     "text": [
      "Epoch 1/10\n",
      "8474/8474 [==============================] - 24s 3ms/step - loss: -1008281664.0000 - accuracy: 0.4106 - val_loss: -4178534912.0000 - val_accuracy: 0.4302\n",
      "Epoch 2/10\n",
      "8474/8474 [==============================] - 23s 3ms/step - loss: -17206452224.0000 - accuracy: 0.4332 - val_loss: -38534942720.0000 - val_accuracy: 0.4344\n",
      "Epoch 3/10\n",
      "8474/8474 [==============================] - 23s 3ms/step - loss: -84786905088.0000 - accuracy: 0.4360 - val_loss: -148478459904.0000 - val_accuracy: 0.4364\n",
      "Epoch 4/10\n",
      "8474/8474 [==============================] - 23s 3ms/step - loss: -258016165888.0000 - accuracy: 0.4374 - val_loss: -396956794880.0000 - val_accuracy: 0.4372\n",
      "Epoch 5/10\n",
      "8474/8474 [==============================] - 23s 3ms/step - loss: -607889129472.0000 - accuracy: 0.4382 - val_loss: -863412813824.0000 - val_accuracy: 0.4379\n",
      "Epoch 6/10\n",
      "8474/8474 [==============================] - 23s 3ms/step - loss: -1222308528128.0000 - accuracy: 0.4388 - val_loss: -1643558862848.0000 - val_accuracy: 0.4386\n",
      "Epoch 7/10\n",
      "8474/8474 [==============================] - 23s 3ms/step - loss: -2205913972736.0000 - accuracy: 0.4393 - val_loss: -2851617112064.0000 - val_accuracy: 0.4389\n",
      "Epoch 8/10\n",
      "8474/8474 [==============================] - 23s 3ms/step - loss: -3679307431936.0000 - accuracy: 0.4396 - val_loss: -4614979584000.0000 - val_accuracy: 0.4393\n",
      "Epoch 9/10\n",
      "8474/8474 [==============================] - 23s 3ms/step - loss: -5778706530304.0000 - accuracy: 0.4399 - val_loss: -7078361956352.0000 - val_accuracy: 0.4396\n",
      "Epoch 10/10\n",
      "8474/8474 [==============================] - 23s 3ms/step - loss: -8659800162304.0000 - accuracy: 0.4401 - val_loss: -10405713805312.0000 - val_accuracy: 0.4399\n"
     ]
    },
    {
     "data": {
      "text/plain": [
       "<keras.src.callbacks.History at 0x21f95a313d0>"
      ]
     },
     "execution_count": 7,
     "metadata": {},
     "output_type": "execute_result"
    }
   ],
   "source": [
    "import pandas as pd\n",
    "import numpy as np\n",
    "from sklearn.model_selection import train_test_split\n",
    "from sklearn.preprocessing import StandardScaler\n",
    "from tensorflow.keras.models import Sequential\n",
    "from tensorflow.keras.layers import Dense\n",
    "\n",
    "# Separate features and target variable\n",
    "X = data.drop('Q', axis=1)\n",
    "y = data['Q']\n",
    "\n",
    "# Split the data into train and test sets\n",
    "X_train, X_test, y_train, y_test = train_test_split(X, y, test_size=0.2, random_state=42)\n",
    "\n",
    "# Standardize the features\n",
    "scaler = StandardScaler()\n",
    "X_train_scaled = scaler.fit_transform(X_train)\n",
    "X_test_scaled = scaler.transform(X_test)\n",
    "\n",
    "# Define the model architecture\n",
    "model = Sequential([\n",
    "    Dense(128, activation='relu', input_shape=(X_train_scaled.shape[1],)),\n",
    "    Dense(64, activation='relu'),\n",
    "    Dense(32, activation='relu'),\n",
    "    Dense(1, activation='sigmoid')\n",
    "])\n",
    "\n",
    "# Compile the model\n",
    "model.compile(optimizer='adam', loss='binary_crossentropy', metrics=['accuracy'])\n",
    "\n",
    "# Train the model\n",
    "model.fit(X_train_scaled, y_train, epochs=10, batch_size=128, validation_data=(X_test_scaled, y_test))\n"
   ]
  },
  {
   "cell_type": "code",
   "execution_count": 9,
   "metadata": {},
   "outputs": [
    {
     "name": "stdout",
     "output_type": "stream",
     "text": [
      "1/1 [==============================] - 0s 166ms/step\n",
      "Predicted Label: 1\n",
      "True Label: 3\n"
     ]
    }
   ],
   "source": [
    "# Select a random sample from X_test\n",
    "random_index = np.random.randint(0, len(X_test))\n",
    "sample = X_test_scaled[random_index]\n",
    "true_label = y_test.iloc[random_index]\n",
    "\n",
    "# Predict the class label for the sample\n",
    "predicted_prob = model.predict(np.expand_dims(sample, axis=0))\n",
    "predicted_label = 1 if predicted_prob > 0.5 else 0\n",
    "\n",
    "# Print the predicted label and the true label\n",
    "print(\"Predicted Label:\", predicted_label)\n",
    "print(\"True Label:\", true_label)\n"
   ]
  },
  {
   "cell_type": "code",
   "execution_count": null,
   "metadata": {},
   "outputs": [],
   "source": [
    "def model_for_vsb_data():\n",
    "    "
   ]
  }
 ],
 "metadata": {
  "kernelspec": {
   "display_name": "Python 3",
   "language": "python",
   "name": "python3"
  },
  "language_info": {
   "codemirror_mode": {
    "name": "ipython",
    "version": 3
   },
   "file_extension": ".py",
   "mimetype": "text/x-python",
   "name": "python",
   "nbconvert_exporter": "python",
   "pygments_lexer": "ipython3",
   "version": "3.9.12"
  }
 },
 "nbformat": 4,
 "nbformat_minor": 2
}
